{
 "cells": [
  {
   "cell_type": "markdown",
   "metadata": {},
   "source": [
    "# Exploratory Data Analysis \n",
    "## Belltown North Parking Data | March 2019 "
   ]
  },
  {
   "cell_type": "code",
   "execution_count": 103,
   "metadata": {},
   "outputs": [],
   "source": [
    "import pandas as pd\n",
    "import numpy as np\n",
    "import pandas.io.sql as pdsql\n",
    "import matplotlib.pyplot as plt\n",
    "%matplotlib inline\n",
    "\n",
    "#!pip install psycopg2\n",
    "import json\n",
    "import psycopg2"
   ]
  },
  {
   "cell_type": "code",
   "execution_count": 74,
   "metadata": {},
   "outputs": [],
   "source": [
    "# Set display options \n",
    "# pd.set_option('display.max_rows', 500)\n",
    "pd.set_option('display.max_columns', 500)\n",
    "pd.set_option('display.width', 1000)\n",
    "pd.set_option('display.float_format', lambda x: '%.3f' % x)"
   ]
  },
  {
   "cell_type": "code",
   "execution_count": 3,
   "metadata": {},
   "outputs": [],
   "source": [
    "#connect to the server\n",
    "conn = psycopg2.connect(host=\"rds-trafficjam.cpze98eqmmci.us-east-2.rds.amazonaws.com\",\n",
    "\t                    database=\"dbtrafficjam\", user=\"trafficjam\", password=\"anss!!596\")\n",
    "\n",
    "cur = conn.cursor()"
   ]
  },
  {
   "cell_type": "markdown",
   "metadata": {},
   "source": [
    "## Read in table/view"
   ]
  },
  {
   "cell_type": "code",
   "execution_count": 4,
   "metadata": {},
   "outputs": [],
   "source": [
    "### Read in Table\n",
    "df_2017 = pd.read_sql(\"SELECT * FROM vw_2017_join\", conn)"
   ]
  },
  {
   "cell_type": "code",
   "execution_count": 6,
   "metadata": {},
   "outputs": [],
   "source": [
    "df_2018 = pd.read_sql(\"SELECT * FROM vw_2018_join\", conn)"
   ]
  },
  {
   "cell_type": "markdown",
   "metadata": {},
   "source": [
    "## Exploratory Data Analysis | 03/26/2019"
   ]
  },
  {
   "cell_type": "markdown",
   "metadata": {},
   "source": [
    "### Define the variables"
   ]
  },
  {
   "cell_type": "markdown",
   "metadata": {},
   "source": [
    "I will begin EDA by describing each variable in the dataframes for 2017 and 2018 (which have identical column names). However, I noticed that the variable `empty_slots` in 2017 should be renamed to match `empty_spots` variable in 2018. "
   ]
  },
  {
   "cell_type": "code",
   "execution_count": 24,
   "metadata": {},
   "outputs": [],
   "source": [
    "# Rename column\n",
    "df_2017.rename(columns={'empty_slots': 'empty_spots'}, inplace=True)"
   ]
  },
  {
   "cell_type": "markdown",
   "metadata": {},
   "source": [
    "I will provide a brief description of each variable: \n",
    "- `source_element_key`: unique identifier for pay station identifying each blockface\n",
    "- `main_lane`: main road along which the blockface runs \n",
    "- `between_one`: the road that intersects `main_lane` on one end\n",
    "- `between_second`: the road that intersects `main_lane` on the other end\n",
    "- `sideofstreet`: cardinal direction idicating which side of the street (possible values: SW, NW, NE, SE, W, and E) \n",
    "- `date_of_transaction`: date in format YYYY/MM/DD for automatic transaction data\n",
    "- `mm_transaction`: month of transaction data\n",
    "- `yyyy_transaction`: year of transaction data\n",
    "- `dd_transaction`: day of transaction data\n",
    "- `dow_transaction`: day of week (values 1-6, Mon-Sat) \n",
    "- `doy_transaction`: day of year\n",
    "- `week_transaction`: week of year \n",
    "- `time_of_transaction`: time of day for the transaction (in format HH:MM:SS) \n",
    "- `hour_transaction`: hour of the transaction \n",
    "- `min_transaction`: minute of transaction (this data is in 30 min intervals so the values are 0 or 30)\n",
    "- `occupied_spots`: number of spots that are occupied on that blockface, according to automatic transaction data \n",
    "- `empty_spots`: number empty spots on that blockface, according to automatic transaction data\n",
    "- `total_spots`: total number of spots at that blockface \n",
    "- `paidparkingarea`: this data concerns Belltown neighborhood, which is the only possible value for this field \n",
    "- `paidparkingsubarea`: the subarea is Belltown North, so `North` is the only possible value for this field \n",
    "- `parkingcategory`: possible values include `Paid Parking` or `Carpool Parking`\n",
    "- `parkingtimelimitcategory`: possible vlaues include 240 or 30 (in minutes) \n",
    "- `latitude`: latitude coordinates\n",
    "- `longitude`: longitude coordinates\n",
    "- `geog`: pgAdmin GIS generated value based on lat and long\n",
    "- `segkey`: \n",
    "- `total_spots_survey`: total parking spots according to manual survey \n",
    "- `occupied_spots_survey`: occupied parking spots according to manual survey \n",
    "- `time_of_survey`: time of survey (in format HH:MM:SS)\n",
    "- `weather_at_hour`: weather data was available on the hour\n",
    "- `average_temp`: temperature (in F) averaged over that hourly segment of weather data\n",
    "- `rain_inches`: rainfall in inches \n",
    "- `humidity`: humidity as percent of air saturated with water vapor \n",
    "- `event`: name of event \n",
    "- `employment`: employment count in Seattle region for each month in the year \n",
    "- `avg_traffic_density`: average traffic density \n",
    "- `main_city_street`: 0 or 1 for whether the street is a main route (1=yes)\n",
    "- `business_license_count`: count of businesses licensed within 200 meters (all subsequent variables concern specific types of businesses within 200m)\n",
    "- `parking_lots_garages_count`: count of parking garages and lots \n",
    "- `banks_count`: count of banks\n",
    "- `bars_restaurants_count`: count of bars and restaurants\n",
    "- `event_venues_count`: count of event venues\n",
    "- `grocery_market_count`: count of grocery markets\n",
    "- `gyms_count`: count of gyms\n",
    "- `hotels_count`: count of hotels\n",
    "- `medical_offices_count`: count of medical offices\n",
    "- `museums_count`: count of museums\n",
    "- `salons_count`: count of salons\n",
    "- `shopping_count`: count of shops "
   ]
  },
  {
   "cell_type": "markdown",
   "metadata": {},
   "source": [
    "### Basic summary statistics"
   ]
  },
  {
   "cell_type": "markdown",
   "metadata": {},
   "source": [
    "Combine 2017 and 2018 data into a single df for EDA. "
   ]
  },
  {
   "cell_type": "code",
   "execution_count": 85,
   "metadata": {},
   "outputs": [],
   "source": [
    "all_df = pd.concat([df_2017, df_2018])"
   ]
  },
  {
   "cell_type": "code",
   "execution_count": 86,
   "metadata": {},
   "outputs": [
    {
     "data": {
      "text/plain": [
       "(2242564, 49)"
      ]
     },
     "execution_count": 86,
     "metadata": {},
     "output_type": "execute_result"
    }
   ],
   "source": [
    "all_df.shape"
   ]
  },
  {
   "cell_type": "code",
   "execution_count": 87,
   "metadata": {},
   "outputs": [
    {
     "data": {
      "text/plain": [
       "(1083460, 49)"
      ]
     },
     "execution_count": 87,
     "metadata": {},
     "output_type": "execute_result"
    }
   ],
   "source": [
    "df_2017.shape"
   ]
  },
  {
   "cell_type": "code",
   "execution_count": 88,
   "metadata": {},
   "outputs": [
    {
     "data": {
      "text/plain": [
       "(1159104, 49)"
      ]
     },
     "execution_count": 88,
     "metadata": {},
     "output_type": "execute_result"
    }
   ],
   "source": [
    "df_2018.shape"
   ]
  },
  {
   "cell_type": "markdown",
   "metadata": {},
   "source": [
    "Calculate some basic summary statistics for pertinent variables across each year. In particular, compare mean values for data on parking spots in the automatic vs. manual survey. "
   ]
  },
  {
   "cell_type": "code",
   "execution_count": 96,
   "metadata": {},
   "outputs": [],
   "source": [
    "summ_all = all_df[['occupied_spots', 'empty_spots', 'total_spots',\n",
    "         'total_spots_survey', 'occupied_spots_survey']].describe()"
   ]
  },
  {
   "cell_type": "code",
   "execution_count": 97,
   "metadata": {},
   "outputs": [],
   "source": [
    "summ_2017 = df_2017[['occupied_spots', 'empty_spots', 'total_spots',\n",
    "         'total_spots_survey', 'occupied_spots_survey']].describe()"
   ]
  },
  {
   "cell_type": "code",
   "execution_count": 98,
   "metadata": {},
   "outputs": [],
   "source": [
    "summ_2018 = df_2018[['occupied_spots', 'empty_spots', 'total_spots',\n",
    "         'total_spots_survey', 'occupied_spots_survey']].describe()"
   ]
  },
  {
   "cell_type": "code",
   "execution_count": 119,
   "metadata": {},
   "outputs": [
    {
     "name": "stdout",
     "output_type": "stream",
     "text": [
      "Mean values for each variable:\n"
     ]
    },
    {
     "data": {
      "text/html": [
       "<div>\n",
       "<style scoped>\n",
       "    .dataframe tbody tr th:only-of-type {\n",
       "        vertical-align: middle;\n",
       "    }\n",
       "\n",
       "    .dataframe tbody tr th {\n",
       "        vertical-align: top;\n",
       "    }\n",
       "\n",
       "    .dataframe thead th {\n",
       "        text-align: right;\n",
       "    }\n",
       "</style>\n",
       "<table border=\"1\" class=\"dataframe\">\n",
       "  <thead>\n",
       "    <tr style=\"text-align: right;\">\n",
       "      <th></th>\n",
       "      <th>2017</th>\n",
       "      <th>2018</th>\n",
       "      <th>both_years</th>\n",
       "    </tr>\n",
       "  </thead>\n",
       "  <tbody>\n",
       "    <tr>\n",
       "      <th>occupied_spots</th>\n",
       "      <td>4.200</td>\n",
       "      <td>4.275</td>\n",
       "      <td>4.239</td>\n",
       "    </tr>\n",
       "    <tr>\n",
       "      <th>empty_spots</th>\n",
       "      <td>3.186</td>\n",
       "      <td>3.071</td>\n",
       "      <td>3.127</td>\n",
       "    </tr>\n",
       "    <tr>\n",
       "      <th>total_spots</th>\n",
       "      <td>7.387</td>\n",
       "      <td>7.347</td>\n",
       "      <td>7.366</td>\n",
       "    </tr>\n",
       "    <tr>\n",
       "      <th>total_spots_survey</th>\n",
       "      <td>7.037</td>\n",
       "      <td>7.243</td>\n",
       "      <td>7.143</td>\n",
       "    </tr>\n",
       "    <tr>\n",
       "      <th>occupied_spots_survey</th>\n",
       "      <td>5.563</td>\n",
       "      <td>5.888</td>\n",
       "      <td>5.729</td>\n",
       "    </tr>\n",
       "  </tbody>\n",
       "</table>\n",
       "</div>"
      ],
      "text/plain": [
       "                       2017  2018  both_years\n",
       "occupied_spots        4.200 4.275       4.239\n",
       "empty_spots           3.186 3.071       3.127\n",
       "total_spots           7.387 7.347       7.366\n",
       "total_spots_survey    7.037 7.243       7.143\n",
       "occupied_spots_survey 5.563 5.888       5.729"
      ]
     },
     "execution_count": 119,
     "metadata": {},
     "output_type": "execute_result"
    }
   ],
   "source": [
    "# Take each of the three series created above, \n",
    "# get the mean for each variable and combine into one df\n",
    "summ_df = pd.concat([summ_2017.loc['mean',:].rename('2017'),\n",
    "                     summ_2018.loc['mean',:].rename('2018'),\n",
    "                     summ_all.loc['mean',:].rename('both_years')], \n",
    "                    axis=1)\n",
    "print('Mean values for each variable:')\n",
    "summ_df"
   ]
  },
  {
   "cell_type": "markdown",
   "metadata": {},
   "source": [
    "The AUTOMATIC transaction data shows that the ratio of `occupied_spots` to `total_spots` has increased from 2017 to 2018 by about 1.33%. \n",
    "- 2017: 56.86% of spots were occupied out of total\n",
    "- 2018: 58.19% \"\"\"\n",
    "- both_years: 57.55% \"\"\" \n",
    "\n",
    "In other words, parking spaces were somewhat more limited in Belltown North in 2018 compared to 2017. This difference is noticeable given the data consists of over a million records for each year. "
   ]
  },
  {
   "cell_type": "markdown",
   "metadata": {},
   "source": [
    "The MANUAL transaction data shows a similar trend (but larger) of about 2.24% increase in occupied spaces compared to total spaces from 2017 to 2018. \n",
    "- 2017: 79.05% of spots were occupied out of total\n",
    "- 2018: 81.29% \"\"\"\n",
    "- both_years: 80.2% \"\"\""
   ]
  },
  {
   "cell_type": "markdown",
   "metadata": {},
   "source": [
    "Note that this ground truth data also reflects a significant difference between the automatic and manual survey data. Note that the automatic data concerns an entire year, whereas the manual survey data was collected over a shorter period of time (most likely a day, to be explored later). "
   ]
  },
  {
   "cell_type": "markdown",
   "metadata": {},
   "source": [
    "### Explore trends in automatic transaction data"
   ]
  },
  {
   "cell_type": "markdown",
   "metadata": {},
   "source": [
    "Drill deeper into the automatic transaction data.   \n",
    "#### Explore occupancy at each half hour for Mon-Fri."
   ]
  },
  {
   "cell_type": "code",
   "execution_count": 127,
   "metadata": {},
   "outputs": [
    {
     "data": {
      "text/plain": [
       "6.000    394464\n",
       "5.000    384185\n",
       "4.000    376842\n",
       "3.000    376672\n",
       "2.000    375838\n",
       "1.000    334563\n",
       "Name: dow_transaction, dtype: int64"
      ]
     },
     "execution_count": 127,
     "metadata": {},
     "output_type": "execute_result"
    }
   ],
   "source": [
    "# Check number of records for each day of week \n",
    "all_df.dow_transaction.value_counts()"
   ]
  },
  {
   "cell_type": "markdown",
   "metadata": {},
   "source": [
    "It appears that Saturday has the most records, and Monday has the fewest. "
   ]
  },
  {
   "cell_type": "code",
   "execution_count": 297,
   "metadata": {},
   "outputs": [],
   "source": [
    "# Get all data for Mon-Fri (6=Sat, so we are excluding Sat here)\n",
    "all_weekday = all_df[all_df['dow_transaction'] != 6]\n",
    "# Get each hour value to loop through \n",
    "get_hours = sorted(all_weekday.hour_transaction.unique())\n",
    "# Set minute values to loop through\n",
    "get_mins = [0,30]\n",
    "# Empty df for collecting stats for each timestamp \n",
    "summ_weekday_times = pd.DataFrame()"
   ]
  },
  {
   "cell_type": "markdown",
   "metadata": {},
   "source": [
    "I will focus on average values for each variable. If the user would like to focus on min or max values (or some other summary statistic from `describe()` function), edit the code below. "
   ]
  },
  {
   "cell_type": "code",
   "execution_count": 298,
   "metadata": {},
   "outputs": [],
   "source": [
    "# Loop through each possible time and collect the data\n",
    "for hour in get_hours : \n",
    "    for minute in get_mins : \n",
    "        # Get rows that match this specific time (8:00, 8:30, etc. through the loop)\n",
    "        at_this_time = all_weekday.loc[np.logical_and(all_weekday.hour_transaction == hour,\n",
    "                                                      all_weekday.min_transaction == minute)]\n",
    "        # Get summary data for this timestamp \n",
    "        summ_time = at_this_time[['occupied_spots', 'empty_spots', 'total_spots']].describe()\n",
    "        # Append this time column to the df\n",
    "        summ_weekday_times = summ_weekday_times.append(summ_time.loc['mean',:], ignore_index=True)"
   ]
  },
  {
   "cell_type": "code",
   "execution_count": 299,
   "metadata": {},
   "outputs": [],
   "source": [
    "# Transpose to flip columns and row axes names\n",
    "summ_weekday_times = summ_weekday_times.T\n",
    "# Get all timestamps to reassign names \n",
    "all_times = sorted(all_weekday.time_of_transaction.unique())\n",
    "# Assign timestamp name for each column \n",
    "summ_weekday_times.columns = all_times"
   ]
  },
  {
   "cell_type": "markdown",
   "metadata": {},
   "source": [
    "#### Do the same for Saturday times. "
   ]
  },
  {
   "cell_type": "code",
   "execution_count": 300,
   "metadata": {},
   "outputs": [],
   "source": [
    "all_Sat = all_df[all_df['dow_transaction'] == 6]\n",
    "get_hours = sorted(all_Sat.hour_transaction.unique())\n",
    "get_mins = [0,30]\n",
    "summ_Sat_times = pd.DataFrame()\n",
    "\n",
    "for hour in get_hours : \n",
    "    for minute in get_mins : \n",
    "        at_this_time = all_Sat.loc[np.logical_and(all_Sat.hour_transaction == hour,\n",
    "                                                  all_Sat.min_transaction == minute)]\n",
    "        summ_time = at_this_time[['occupied_spots', 'empty_spots', 'total_spots']].describe()\n",
    "        summ_Sat_times = summ_Sat_times.append(summ_time.loc['mean',:], ignore_index=True)\n",
    "\n",
    "# Transpose to flip columns and row axes names\n",
    "summ_Sat_times = summ_Sat_times.T\n",
    "# Get all timestamps to reassign names \n",
    "all_times = sorted(all_Sat.time_of_transaction.unique())\n",
    "# Assign timestamp name for each column \n",
    "summ_Sat_times.columns = all_times"
   ]
  },
  {
   "cell_type": "code",
   "execution_count": 301,
   "metadata": {},
   "outputs": [
    {
     "name": "stdout",
     "output_type": "stream",
     "text": [
      "WEEKDAY average value for each timestamp based on automatic transaction data\n"
     ]
    },
    {
     "data": {
      "text/html": [
       "<div>\n",
       "<style scoped>\n",
       "    .dataframe tbody tr th:only-of-type {\n",
       "        vertical-align: middle;\n",
       "    }\n",
       "\n",
       "    .dataframe tbody tr th {\n",
       "        vertical-align: top;\n",
       "    }\n",
       "\n",
       "    .dataframe thead th {\n",
       "        text-align: right;\n",
       "    }\n",
       "</style>\n",
       "<table border=\"1\" class=\"dataframe\">\n",
       "  <thead>\n",
       "    <tr style=\"text-align: right;\">\n",
       "      <th></th>\n",
       "      <th>08:00:00</th>\n",
       "      <th>08:30:00</th>\n",
       "      <th>09:00:00</th>\n",
       "      <th>09:30:00</th>\n",
       "      <th>10:00:00</th>\n",
       "      <th>10:30:00</th>\n",
       "      <th>11:00:00</th>\n",
       "      <th>11:30:00</th>\n",
       "      <th>12:00:00</th>\n",
       "      <th>12:30:00</th>\n",
       "      <th>13:00:00</th>\n",
       "      <th>13:30:00</th>\n",
       "      <th>14:00:00</th>\n",
       "      <th>14:30:00</th>\n",
       "      <th>15:00:00</th>\n",
       "      <th>15:30:00</th>\n",
       "      <th>16:00:00</th>\n",
       "      <th>16:30:00</th>\n",
       "      <th>17:00:00</th>\n",
       "      <th>17:30:00</th>\n",
       "      <th>18:00:00</th>\n",
       "      <th>18:30:00</th>\n",
       "      <th>19:00:00</th>\n",
       "      <th>19:30:00</th>\n",
       "    </tr>\n",
       "  </thead>\n",
       "  <tbody>\n",
       "    <tr>\n",
       "      <th>empty_spots</th>\n",
       "      <td>5.807</td>\n",
       "      <td>4.802</td>\n",
       "      <td>4.213</td>\n",
       "      <td>3.624</td>\n",
       "      <td>2.983</td>\n",
       "      <td>2.574</td>\n",
       "      <td>2.168</td>\n",
       "      <td>1.993</td>\n",
       "      <td>1.526</td>\n",
       "      <td>2.140</td>\n",
       "      <td>2.076</td>\n",
       "      <td>2.248</td>\n",
       "      <td>2.387</td>\n",
       "      <td>2.665</td>\n",
       "      <td>2.842</td>\n",
       "      <td>3.030</td>\n",
       "      <td>3.148</td>\n",
       "      <td>3.365</td>\n",
       "      <td>3.397</td>\n",
       "      <td>3.421</td>\n",
       "      <td>3.368</td>\n",
       "      <td>3.165</td>\n",
       "      <td>3.082</td>\n",
       "      <td>3.113</td>\n",
       "    </tr>\n",
       "    <tr>\n",
       "      <th>occupied_spots</th>\n",
       "      <td>1.550</td>\n",
       "      <td>2.555</td>\n",
       "      <td>3.145</td>\n",
       "      <td>3.733</td>\n",
       "      <td>4.374</td>\n",
       "      <td>4.784</td>\n",
       "      <td>5.190</td>\n",
       "      <td>5.365</td>\n",
       "      <td>5.831</td>\n",
       "      <td>5.218</td>\n",
       "      <td>5.282</td>\n",
       "      <td>5.110</td>\n",
       "      <td>4.970</td>\n",
       "      <td>4.692</td>\n",
       "      <td>4.537</td>\n",
       "      <td>4.361</td>\n",
       "      <td>4.251</td>\n",
       "      <td>4.038</td>\n",
       "      <td>4.006</td>\n",
       "      <td>3.981</td>\n",
       "      <td>3.995</td>\n",
       "      <td>4.198</td>\n",
       "      <td>4.276</td>\n",
       "      <td>4.245</td>\n",
       "    </tr>\n",
       "    <tr>\n",
       "      <th>total_spots</th>\n",
       "      <td>7.357</td>\n",
       "      <td>7.357</td>\n",
       "      <td>7.358</td>\n",
       "      <td>7.357</td>\n",
       "      <td>7.357</td>\n",
       "      <td>7.357</td>\n",
       "      <td>7.358</td>\n",
       "      <td>7.357</td>\n",
       "      <td>7.357</td>\n",
       "      <td>7.357</td>\n",
       "      <td>7.358</td>\n",
       "      <td>7.357</td>\n",
       "      <td>7.357</td>\n",
       "      <td>7.357</td>\n",
       "      <td>7.379</td>\n",
       "      <td>7.391</td>\n",
       "      <td>7.399</td>\n",
       "      <td>7.403</td>\n",
       "      <td>7.403</td>\n",
       "      <td>7.403</td>\n",
       "      <td>7.363</td>\n",
       "      <td>7.363</td>\n",
       "      <td>7.358</td>\n",
       "      <td>7.358</td>\n",
       "    </tr>\n",
       "  </tbody>\n",
       "</table>\n",
       "</div>"
      ],
      "text/plain": [
       "                08:00:00  08:30:00  09:00:00  09:30:00  10:00:00  10:30:00  11:00:00  11:30:00  12:00:00  12:30:00  13:00:00  13:30:00  14:00:00  14:30:00  15:00:00  15:30:00  16:00:00  16:30:00  17:00:00  17:30:00  18:00:00  18:30:00  19:00:00  19:30:00\n",
       "empty_spots        5.807     4.802     4.213     3.624     2.983     2.574     2.168     1.993     1.526     2.140     2.076     2.248     2.387     2.665     2.842     3.030     3.148     3.365     3.397     3.421     3.368     3.165     3.082     3.113\n",
       "occupied_spots     1.550     2.555     3.145     3.733     4.374     4.784     5.190     5.365     5.831     5.218     5.282     5.110     4.970     4.692     4.537     4.361     4.251     4.038     4.006     3.981     3.995     4.198     4.276     4.245\n",
       "total_spots        7.357     7.357     7.358     7.357     7.357     7.357     7.358     7.357     7.357     7.357     7.358     7.357     7.357     7.357     7.379     7.391     7.399     7.403     7.403     7.403     7.363     7.363     7.358     7.358"
      ]
     },
     "execution_count": 301,
     "metadata": {},
     "output_type": "execute_result"
    }
   ],
   "source": [
    "print('WEEKDAY average value for each timestamp based on automatic transaction data')\n",
    "summ_weekday_times"
   ]
  },
  {
   "cell_type": "code",
   "execution_count": 302,
   "metadata": {},
   "outputs": [
    {
     "name": "stdout",
     "output_type": "stream",
     "text": [
      "SATURDAY average value for each timestamp based on automatic transaction data\n"
     ]
    },
    {
     "data": {
      "text/html": [
       "<div>\n",
       "<style scoped>\n",
       "    .dataframe tbody tr th:only-of-type {\n",
       "        vertical-align: middle;\n",
       "    }\n",
       "\n",
       "    .dataframe tbody tr th {\n",
       "        vertical-align: top;\n",
       "    }\n",
       "\n",
       "    .dataframe thead th {\n",
       "        text-align: right;\n",
       "    }\n",
       "</style>\n",
       "<table border=\"1\" class=\"dataframe\">\n",
       "  <thead>\n",
       "    <tr style=\"text-align: right;\">\n",
       "      <th></th>\n",
       "      <th>08:00:00</th>\n",
       "      <th>08:30:00</th>\n",
       "      <th>09:00:00</th>\n",
       "      <th>09:30:00</th>\n",
       "      <th>10:00:00</th>\n",
       "      <th>10:30:00</th>\n",
       "      <th>11:00:00</th>\n",
       "      <th>11:30:00</th>\n",
       "      <th>12:00:00</th>\n",
       "      <th>12:30:00</th>\n",
       "      <th>13:00:00</th>\n",
       "      <th>13:30:00</th>\n",
       "      <th>14:00:00</th>\n",
       "      <th>14:30:00</th>\n",
       "      <th>15:00:00</th>\n",
       "      <th>15:30:00</th>\n",
       "      <th>16:00:00</th>\n",
       "      <th>16:30:00</th>\n",
       "      <th>17:00:00</th>\n",
       "      <th>17:30:00</th>\n",
       "      <th>18:00:00</th>\n",
       "      <th>18:30:00</th>\n",
       "      <th>19:00:00</th>\n",
       "      <th>19:30:00</th>\n",
       "    </tr>\n",
       "  </thead>\n",
       "  <tbody>\n",
       "    <tr>\n",
       "      <th>empty_spots</th>\n",
       "      <td>6.566</td>\n",
       "      <td>5.792</td>\n",
       "      <td>5.183</td>\n",
       "      <td>4.744</td>\n",
       "      <td>4.278</td>\n",
       "      <td>3.919</td>\n",
       "      <td>3.492</td>\n",
       "      <td>3.279</td>\n",
       "      <td>2.939</td>\n",
       "      <td>3.220</td>\n",
       "      <td>3.104</td>\n",
       "      <td>3.082</td>\n",
       "      <td>2.993</td>\n",
       "      <td>3.000</td>\n",
       "      <td>3.008</td>\n",
       "      <td>3.099</td>\n",
       "      <td>3.121</td>\n",
       "      <td>3.179</td>\n",
       "      <td>3.091</td>\n",
       "      <td>3.013</td>\n",
       "      <td>2.865</td>\n",
       "      <td>2.781</td>\n",
       "      <td>2.650</td>\n",
       "      <td>2.679</td>\n",
       "    </tr>\n",
       "    <tr>\n",
       "      <th>occupied_spots</th>\n",
       "      <td>0.797</td>\n",
       "      <td>1.571</td>\n",
       "      <td>2.180</td>\n",
       "      <td>2.618</td>\n",
       "      <td>3.084</td>\n",
       "      <td>3.442</td>\n",
       "      <td>3.868</td>\n",
       "      <td>4.081</td>\n",
       "      <td>4.420</td>\n",
       "      <td>4.140</td>\n",
       "      <td>4.256</td>\n",
       "      <td>4.278</td>\n",
       "      <td>4.367</td>\n",
       "      <td>4.360</td>\n",
       "      <td>4.352</td>\n",
       "      <td>4.261</td>\n",
       "      <td>4.238</td>\n",
       "      <td>4.180</td>\n",
       "      <td>4.268</td>\n",
       "      <td>4.346</td>\n",
       "      <td>4.494</td>\n",
       "      <td>4.577</td>\n",
       "      <td>4.709</td>\n",
       "      <td>4.680</td>\n",
       "    </tr>\n",
       "    <tr>\n",
       "      <th>total_spots</th>\n",
       "      <td>7.363</td>\n",
       "      <td>7.363</td>\n",
       "      <td>7.363</td>\n",
       "      <td>7.362</td>\n",
       "      <td>7.362</td>\n",
       "      <td>7.362</td>\n",
       "      <td>7.360</td>\n",
       "      <td>7.360</td>\n",
       "      <td>7.359</td>\n",
       "      <td>7.360</td>\n",
       "      <td>7.360</td>\n",
       "      <td>7.360</td>\n",
       "      <td>7.360</td>\n",
       "      <td>7.360</td>\n",
       "      <td>7.360</td>\n",
       "      <td>7.360</td>\n",
       "      <td>7.359</td>\n",
       "      <td>7.359</td>\n",
       "      <td>7.359</td>\n",
       "      <td>7.359</td>\n",
       "      <td>7.359</td>\n",
       "      <td>7.359</td>\n",
       "      <td>7.359</td>\n",
       "      <td>7.359</td>\n",
       "    </tr>\n",
       "  </tbody>\n",
       "</table>\n",
       "</div>"
      ],
      "text/plain": [
       "                08:00:00  08:30:00  09:00:00  09:30:00  10:00:00  10:30:00  11:00:00  11:30:00  12:00:00  12:30:00  13:00:00  13:30:00  14:00:00  14:30:00  15:00:00  15:30:00  16:00:00  16:30:00  17:00:00  17:30:00  18:00:00  18:30:00  19:00:00  19:30:00\n",
       "empty_spots        6.566     5.792     5.183     4.744     4.278     3.919     3.492     3.279     2.939     3.220     3.104     3.082     2.993     3.000     3.008     3.099     3.121     3.179     3.091     3.013     2.865     2.781     2.650     2.679\n",
       "occupied_spots     0.797     1.571     2.180     2.618     3.084     3.442     3.868     4.081     4.420     4.140     4.256     4.278     4.367     4.360     4.352     4.261     4.238     4.180     4.268     4.346     4.494     4.577     4.709     4.680\n",
       "total_spots        7.363     7.363     7.363     7.362     7.362     7.362     7.360     7.360     7.359     7.360     7.360     7.360     7.360     7.360     7.360     7.360     7.359     7.359     7.359     7.359     7.359     7.359     7.359     7.359"
      ]
     },
     "execution_count": 302,
     "metadata": {},
     "output_type": "execute_result"
    }
   ],
   "source": [
    "print('SATURDAY average value for each timestamp based on automatic transaction data')\n",
    "summ_Sat_times"
   ]
  },
  {
   "cell_type": "code",
   "execution_count": 303,
   "metadata": {},
   "outputs": [],
   "source": [
    "# Transpose for plotting\n",
    "summ_weekday_times_T = summ_weekday_times.T\n",
    "summ_Sat_times_T = summ_Sat_times.T\n",
    "# Add index values as their own column \n",
    "summ_weekday_times_T['times'] = summ_weekday_times_T.index\n",
    "summ_Sat_times_T['times'] = summ_Sat_times_T.index"
   ]
  },
  {
   "cell_type": "code",
   "execution_count": 369,
   "metadata": {},
   "outputs": [
    {
     "data": {
      "image/png": "[encoded data removed]",
      "text/plain": [
       "<matplotlib.figure.Figure at 0x1483bdf60>"
      ]
     },
     "metadata": {},
     "output_type": "display_data"
    }
   ],
   "source": [
    "# Plot average occupied spots\n",
    "plt.figure(figsize=(10,7))\n",
    "plt.plot(summ_weekday_times_T.occupied_spots, '-ro', label='Weekdays')\n",
    "plt.plot(summ_Sat_times_T.occupied_spots, '-bo', label='Saturday')\n",
    "plt.title('Average occupied_spots every half hour')\n",
    "plt.legend()\n",
    "plt.xlabel('Time')\n",
    "plt.ylabel('Number of parking spots')\n",
    "plt.xticks(all_times, rotation=45, horizontalalignment='center')\n",
    "plt.grid(linestyle='--', linewidth=0.75)\n",
    "plt.show()"
   ]
  },
  {
   "cell_type": "code",
   "execution_count": 370,
   "metadata": {},
   "outputs": [
    {
     "data": {
      "image/png": "[encoded data removed]",
      "text/plain": [
       "<matplotlib.figure.Figure at 0x15cb1b400>"
      ]
     },
     "metadata": {},
     "output_type": "display_data"
    }
   ],
   "source": [
    "# Plot average empty spots\n",
    "plt.figure(figsize=(10,7))\n",
    "plt.plot(summ_weekday_times_T.empty_spots, '-ro', label='Weekdays')\n",
    "plt.plot(summ_Sat_times_T.empty_spots, '-bo', label='Saturday')\n",
    "plt.title('Average empty_spots every half hour')\n",
    "plt.legend()\n",
    "plt.xlabel('Time')\n",
    "plt.ylabel('Number of parking spots')\n",
    "plt.xticks(all_times, rotation=45, horizontalalignment='center')\n",
    "plt.grid(linestyle='--', linewidth=0.75)\n",
    "plt.show()"
   ]
  },
  {
   "cell_type": "markdown",
   "metadata": {},
   "source": [
    "From this analysis, it appears that average occupied_spots generally peaks weekdays around 12pm and weekends around 7pm for combined 2017/2018 data. On weekdays and weekends, occupancy increases throughout the morning. On weekdays, occupancy begins to decrease after 12pm to level out around 4:30 to 6pm and then icnrease slightly again to 7pm. On weekends, occupancy seems to hold relatively stable around 12-5pm and then increases slightly in the evening. "
   ]
  },
  {
   "cell_type": "markdown",
   "metadata": {},
   "source": [
    "#### Explore trends month by month. "
   ]
  },
  {
   "cell_type": "code",
   "execution_count": 404,
   "metadata": {},
   "outputs": [],
   "source": [
    "# Get month values 1-12\n",
    "get_months = sorted(all_df.mm_transaction.unique())\n",
    "# Empty df to store results \n",
    "summ_months = pd.DataFrame()\n",
    "\n",
    "# Loop through each month\n",
    "for month in get_months : \n",
    "    at_this_month = all_df[all_df['mm_transaction'] == month]\n",
    "    summ_month = at_this_month[['occupied_spots', 'empty_spots', 'total_spots']].describe()\n",
    "    summ_months = summ_months.append(summ_month.loc['mean',:], ignore_index=True)\n",
    "summ_months.index = summ_months.index+1"
   ]
  },
  {
   "cell_type": "code",
   "execution_count": 405,
   "metadata": {},
   "outputs": [],
   "source": [
    "summ_months = summ_months.T"
   ]
  },
  {
   "cell_type": "code",
   "execution_count": 407,
   "metadata": {},
   "outputs": [
    {
     "name": "stdout",
     "output_type": "stream",
     "text": [
      "Average value for each month based on automatic transaction data\n"
     ]
    },
    {
     "data": {
      "text/html": [
       "<div>\n",
       "<style scoped>\n",
       "    .dataframe tbody tr th:only-of-type {\n",
       "        vertical-align: middle;\n",
       "    }\n",
       "\n",
       "    .dataframe tbody tr th {\n",
       "        vertical-align: top;\n",
       "    }\n",
       "\n",
       "    .dataframe thead th {\n",
       "        text-align: right;\n",
       "    }\n",
       "</style>\n",
       "<table border=\"1\" class=\"dataframe\">\n",
       "  <thead>\n",
       "    <tr style=\"text-align: right;\">\n",
       "      <th></th>\n",
       "      <th>1</th>\n",
       "      <th>2</th>\n",
       "      <th>3</th>\n",
       "      <th>4</th>\n",
       "      <th>5</th>\n",
       "      <th>6</th>\n",
       "      <th>7</th>\n",
       "      <th>8</th>\n",
       "      <th>9</th>\n",
       "      <th>10</th>\n",
       "      <th>11</th>\n",
       "      <th>12</th>\n",
       "    </tr>\n",
       "  </thead>\n",
       "  <tbody>\n",
       "    <tr>\n",
       "      <th>empty_spots</th>\n",
       "      <td>3.315</td>\n",
       "      <td>3.322</td>\n",
       "      <td>3.130</td>\n",
       "      <td>3.082</td>\n",
       "      <td>3.034</td>\n",
       "      <td>2.968</td>\n",
       "      <td>2.949</td>\n",
       "      <td>2.833</td>\n",
       "      <td>3.119</td>\n",
       "      <td>3.101</td>\n",
       "      <td>3.226</td>\n",
       "      <td>3.506</td>\n",
       "    </tr>\n",
       "    <tr>\n",
       "      <th>occupied_spots</th>\n",
       "      <td>4.097</td>\n",
       "      <td>4.066</td>\n",
       "      <td>4.252</td>\n",
       "      <td>4.277</td>\n",
       "      <td>4.330</td>\n",
       "      <td>4.384</td>\n",
       "      <td>4.389</td>\n",
       "      <td>4.514</td>\n",
       "      <td>4.256</td>\n",
       "      <td>4.265</td>\n",
       "      <td>4.140</td>\n",
       "      <td>3.841</td>\n",
       "    </tr>\n",
       "    <tr>\n",
       "      <th>total_spots</th>\n",
       "      <td>7.413</td>\n",
       "      <td>7.388</td>\n",
       "      <td>7.382</td>\n",
       "      <td>7.359</td>\n",
       "      <td>7.364</td>\n",
       "      <td>7.352</td>\n",
       "      <td>7.338</td>\n",
       "      <td>7.347</td>\n",
       "      <td>7.375</td>\n",
       "      <td>7.365</td>\n",
       "      <td>7.366</td>\n",
       "      <td>7.346</td>\n",
       "    </tr>\n",
       "  </tbody>\n",
       "</table>\n",
       "</div>"
      ],
      "text/plain": [
       "                  1     2     3     4     5     6     7     8     9     10    11    12\n",
       "empty_spots    3.315 3.322 3.130 3.082 3.034 2.968 2.949 2.833 3.119 3.101 3.226 3.506\n",
       "occupied_spots 4.097 4.066 4.252 4.277 4.330 4.384 4.389 4.514 4.256 4.265 4.140 3.841\n",
       "total_spots    7.413 7.388 7.382 7.359 7.364 7.352 7.338 7.347 7.375 7.365 7.366 7.346"
      ]
     },
     "execution_count": 407,
     "metadata": {},
     "output_type": "execute_result"
    }
   ],
   "source": [
    "print('Average value for each month based on automatic transaction data')\n",
    "summ_months"
   ]
  },
  {
   "cell_type": "code",
   "execution_count": 408,
   "metadata": {},
   "outputs": [],
   "source": [
    "summ_months_T = summ_months.T"
   ]
  },
  {
   "cell_type": "code",
   "execution_count": 434,
   "metadata": {},
   "outputs": [
    {
     "data": {
      "image/png": "[encoded data removed]",
      "text/plain": [
       "<matplotlib.figure.Figure at 0x15a9b69e8>"
      ]
     },
     "metadata": {},
     "output_type": "display_data"
    }
   ],
   "source": [
    "# Plot average monthly data\n",
    "all_months = ['Jan', 'Feb', 'Mar', 'Apr', 'May', 'Jun', 'Jul', 'Aug', 'Sep', 'Oct', 'Nov', 'Dec']\n",
    "plt.figure(figsize=(10,7))\n",
    "plt.plot(summ_months_T.occupied_spots, '-go', label='Occupied')\n",
    "plt.plot(summ_months_T.total_spots, '-co', label='Total')\n",
    "plt.title('Average monthly data')\n",
    "plt.legend(loc='best')\n",
    "plt.xlabel('Month')\n",
    "plt.ylabel('Number of parking spots')\n",
    "plt.xticks(np.arange(1,13))\n",
    "plt.ylim(bottom=0)\n",
    "plt.grid(linestyle='--', linewidth=0.75)\n",
    "plt.show()"
   ]
  },
  {
   "cell_type": "markdown",
   "metadata": {},
   "source": [
    "Monthly variation in average occupancy is quite small. There is a slight uptick in the summer months, potentially due to increased visitation? "
   ]
  },
  {
   "cell_type": "markdown",
   "metadata": {},
   "source": [
    "### Explore weather data"
   ]
  },
  {
   "cell_type": "markdown",
   "metadata": {},
   "source": [
    "Check for weather stats (temp, rainfall, humidity) at each timestamp to see if there is a trend that exists. Given that above we identified average parking occupancy fluctuating throughout the day, we need to understand the relationship between weather/time to determine if that is interfering with any potential relationship between rainfall/occupancy. For example, is rain more likely at early hours of the day? "
   ]
  },
  {
   "cell_type": "code",
   "execution_count": 460,
   "metadata": {},
   "outputs": [],
   "source": [
    "# Empty df to store results analyzing rainfall and time \n",
    "summ_rainfall_time = pd.DataFrame()\n",
    "\n",
    "for hour in get_hours : \n",
    "    for minute in get_mins : \n",
    "        at_this_time = all_df.loc[np.logical_and(all_df.hour_transaction == hour,\n",
    "                                                 all_df.min_transaction == minute)]\n",
    "        summ_time = at_this_time[['average_temp', 'rain_inches', 'humidity']].describe()\n",
    "        summ_rainfall_time = summ_rainfall_time.append(summ_time.loc['mean',:], \n",
    "                                                       ignore_index=True)\n",
    "\n",
    "# Transpose to flip columns and row axes names\n",
    "summ_rainfall_time_T = summ_rainfall_time.T\n",
    "# Assign timestamp name for each column \n",
    "summ_rainfall_time_T.columns = all_times # all_times defined earlier "
   ]
  },
  {
   "cell_type": "code",
   "execution_count": 461,
   "metadata": {},
   "outputs": [
    {
     "data": {
      "text/html": [
       "<div>\n",
       "<style scoped>\n",
       "    .dataframe tbody tr th:only-of-type {\n",
       "        vertical-align: middle;\n",
       "    }\n",
       "\n",
       "    .dataframe tbody tr th {\n",
       "        vertical-align: top;\n",
       "    }\n",
       "\n",
       "    .dataframe thead th {\n",
       "        text-align: right;\n",
       "    }\n",
       "</style>\n",
       "<table border=\"1\" class=\"dataframe\">\n",
       "  <thead>\n",
       "    <tr style=\"text-align: right;\">\n",
       "      <th></th>\n",
       "      <th>08:00:00</th>\n",
       "      <th>08:30:00</th>\n",
       "      <th>09:00:00</th>\n",
       "      <th>09:30:00</th>\n",
       "      <th>10:00:00</th>\n",
       "      <th>10:30:00</th>\n",
       "      <th>11:00:00</th>\n",
       "      <th>11:30:00</th>\n",
       "      <th>12:00:00</th>\n",
       "      <th>12:30:00</th>\n",
       "      <th>13:00:00</th>\n",
       "      <th>13:30:00</th>\n",
       "      <th>14:00:00</th>\n",
       "      <th>14:30:00</th>\n",
       "      <th>15:00:00</th>\n",
       "      <th>15:30:00</th>\n",
       "      <th>16:00:00</th>\n",
       "      <th>16:30:00</th>\n",
       "      <th>17:00:00</th>\n",
       "      <th>17:30:00</th>\n",
       "      <th>18:00:00</th>\n",
       "      <th>18:30:00</th>\n",
       "      <th>19:00:00</th>\n",
       "      <th>19:30:00</th>\n",
       "    </tr>\n",
       "  </thead>\n",
       "  <tbody>\n",
       "    <tr>\n",
       "      <th>average_temp</th>\n",
       "      <td>50.178</td>\n",
       "      <td>50.179</td>\n",
       "      <td>52.061</td>\n",
       "      <td>52.063</td>\n",
       "      <td>53.978</td>\n",
       "      <td>53.978</td>\n",
       "      <td>55.786</td>\n",
       "      <td>55.782</td>\n",
       "      <td>57.408</td>\n",
       "      <td>57.408</td>\n",
       "      <td>58.761</td>\n",
       "      <td>58.758</td>\n",
       "      <td>59.802</td>\n",
       "      <td>59.803</td>\n",
       "      <td>60.385</td>\n",
       "      <td>60.360</td>\n",
       "      <td>60.389</td>\n",
       "      <td>60.383</td>\n",
       "      <td>59.578</td>\n",
       "      <td>59.577</td>\n",
       "      <td>58.094</td>\n",
       "      <td>58.095</td>\n",
       "      <td>56.175</td>\n",
       "      <td>56.175</td>\n",
       "    </tr>\n",
       "    <tr>\n",
       "      <th>humidity</th>\n",
       "      <td>84.268</td>\n",
       "      <td>84.268</td>\n",
       "      <td>80.177</td>\n",
       "      <td>80.177</td>\n",
       "      <td>75.664</td>\n",
       "      <td>75.664</td>\n",
       "      <td>71.158</td>\n",
       "      <td>71.164</td>\n",
       "      <td>67.375</td>\n",
       "      <td>67.375</td>\n",
       "      <td>64.120</td>\n",
       "      <td>64.124</td>\n",
       "      <td>61.785</td>\n",
       "      <td>61.781</td>\n",
       "      <td>60.311</td>\n",
       "      <td>60.334</td>\n",
       "      <td>60.292</td>\n",
       "      <td>60.297</td>\n",
       "      <td>62.109</td>\n",
       "      <td>62.109</td>\n",
       "      <td>65.700</td>\n",
       "      <td>65.696</td>\n",
       "      <td>70.059</td>\n",
       "      <td>70.060</td>\n",
       "    </tr>\n",
       "    <tr>\n",
       "      <th>rain_inches</th>\n",
       "      <td>0.005</td>\n",
       "      <td>0.005</td>\n",
       "      <td>0.005</td>\n",
       "      <td>0.005</td>\n",
       "      <td>0.004</td>\n",
       "      <td>0.004</td>\n",
       "      <td>0.004</td>\n",
       "      <td>0.004</td>\n",
       "      <td>0.004</td>\n",
       "      <td>0.004</td>\n",
       "      <td>0.004</td>\n",
       "      <td>0.004</td>\n",
       "      <td>0.004</td>\n",
       "      <td>0.004</td>\n",
       "      <td>0.005</td>\n",
       "      <td>0.005</td>\n",
       "      <td>0.005</td>\n",
       "      <td>0.005</td>\n",
       "      <td>0.005</td>\n",
       "      <td>0.005</td>\n",
       "      <td>0.006</td>\n",
       "      <td>0.006</td>\n",
       "      <td>0.006</td>\n",
       "      <td>0.006</td>\n",
       "    </tr>\n",
       "  </tbody>\n",
       "</table>\n",
       "</div>"
      ],
      "text/plain": [
       "              08:00:00  08:30:00  09:00:00  09:30:00  10:00:00  10:30:00  11:00:00  11:30:00  12:00:00  12:30:00  13:00:00  13:30:00  14:00:00  14:30:00  15:00:00  15:30:00  16:00:00  16:30:00  17:00:00  17:30:00  18:00:00  18:30:00  19:00:00  19:30:00\n",
       "average_temp    50.178    50.179    52.061    52.063    53.978    53.978    55.786    55.782    57.408    57.408    58.761    58.758    59.802    59.803    60.385    60.360    60.389    60.383    59.578    59.577    58.094    58.095    56.175    56.175\n",
       "humidity        84.268    84.268    80.177    80.177    75.664    75.664    71.158    71.164    67.375    67.375    64.120    64.124    61.785    61.781    60.311    60.334    60.292    60.297    62.109    62.109    65.700    65.696    70.059    70.060\n",
       "rain_inches      0.005     0.005     0.005     0.005     0.004     0.004     0.004     0.004     0.004     0.004     0.004     0.004     0.004     0.004     0.005     0.005     0.005     0.005     0.005     0.005     0.006     0.006     0.006     0.006"
      ]
     },
     "execution_count": 461,
     "metadata": {},
     "output_type": "execute_result"
    }
   ],
   "source": [
    "summ_rainfall_time_T"
   ]
  },
  {
   "cell_type": "markdown",
   "metadata": {},
   "source": [
    "Rain is the primary variable of interest here as potentially correlated with parking trends. The variation across times of day is very small. I will subset the df to only include records in which some rainfall occurred, to see if excluding times without rain causes more variation to emerge throughout the day. "
   ]
  },
  {
   "cell_type": "code",
   "execution_count": 462,
   "metadata": {},
   "outputs": [
    {
     "data": {
      "text/plain": [
       "(255161, 49)"
      ]
     },
     "execution_count": 462,
     "metadata": {},
     "output_type": "execute_result"
    }
   ],
   "source": [
    "rain_df = all_df[all_df['rain_inches'] > 0]\n",
    "rain_df.shape"
   ]
  },
  {
   "cell_type": "code",
   "execution_count": 463,
   "metadata": {},
   "outputs": [],
   "source": [
    "# Empty df to store results analyzing rainfall and time \n",
    "summ_rainfall_time_v2 = pd.DataFrame()\n",
    "\n",
    "for hour in get_hours : \n",
    "    for minute in get_mins : \n",
    "        at_this_time = rain_df.loc[np.logical_and(rain_df.hour_transaction == hour,\n",
    "                                                  rain_df.min_transaction == minute)]\n",
    "        summ_time = at_this_time[['average_temp', 'rain_inches', 'humidity']].describe()\n",
    "        summ_rainfall_time_v2 = summ_rainfall_time_v2.append(summ_time.loc['mean',:], \n",
    "                                                             ignore_index=True)\n",
    "\n",
    "# Transpose to flip columns and row axes names\n",
    "summ_rainfall_time_v2_T = summ_rainfall_time_v2.T\n",
    "# Assign timestamp name for each column \n",
    "summ_rainfall_time_v2_T.columns = all_times # all_times defined earlier "
   ]
  },
  {
   "cell_type": "code",
   "execution_count": 464,
   "metadata": {},
   "outputs": [
    {
     "data": {
      "text/html": [
       "<div>\n",
       "<style scoped>\n",
       "    .dataframe tbody tr th:only-of-type {\n",
       "        vertical-align: middle;\n",
       "    }\n",
       "\n",
       "    .dataframe tbody tr th {\n",
       "        vertical-align: top;\n",
       "    }\n",
       "\n",
       "    .dataframe thead th {\n",
       "        text-align: right;\n",
       "    }\n",
       "</style>\n",
       "<table border=\"1\" class=\"dataframe\">\n",
       "  <thead>\n",
       "    <tr style=\"text-align: right;\">\n",
       "      <th></th>\n",
       "      <th>08:00:00</th>\n",
       "      <th>08:30:00</th>\n",
       "      <th>09:00:00</th>\n",
       "      <th>09:30:00</th>\n",
       "      <th>10:00:00</th>\n",
       "      <th>10:30:00</th>\n",
       "      <th>11:00:00</th>\n",
       "      <th>11:30:00</th>\n",
       "      <th>12:00:00</th>\n",
       "      <th>12:30:00</th>\n",
       "      <th>13:00:00</th>\n",
       "      <th>13:30:00</th>\n",
       "      <th>14:00:00</th>\n",
       "      <th>14:30:00</th>\n",
       "      <th>15:00:00</th>\n",
       "      <th>15:30:00</th>\n",
       "      <th>16:00:00</th>\n",
       "      <th>16:30:00</th>\n",
       "      <th>17:00:00</th>\n",
       "      <th>17:30:00</th>\n",
       "      <th>18:00:00</th>\n",
       "      <th>18:30:00</th>\n",
       "      <th>19:00:00</th>\n",
       "      <th>19:30:00</th>\n",
       "    </tr>\n",
       "  </thead>\n",
       "  <tbody>\n",
       "    <tr>\n",
       "      <th>average_temp</th>\n",
       "      <td>46.446</td>\n",
       "      <td>46.446</td>\n",
       "      <td>47.086</td>\n",
       "      <td>47.086</td>\n",
       "      <td>46.749</td>\n",
       "      <td>46.749</td>\n",
       "      <td>47.141</td>\n",
       "      <td>47.140</td>\n",
       "      <td>47.677</td>\n",
       "      <td>47.677</td>\n",
       "      <td>47.945</td>\n",
       "      <td>47.948</td>\n",
       "      <td>48.709</td>\n",
       "      <td>48.702</td>\n",
       "      <td>48.795</td>\n",
       "      <td>48.784</td>\n",
       "      <td>49.427</td>\n",
       "      <td>49.432</td>\n",
       "      <td>50.030</td>\n",
       "      <td>50.031</td>\n",
       "      <td>49.583</td>\n",
       "      <td>49.585</td>\n",
       "      <td>48.299</td>\n",
       "      <td>48.299</td>\n",
       "    </tr>\n",
       "    <tr>\n",
       "      <th>humidity</th>\n",
       "      <td>95.155</td>\n",
       "      <td>95.155</td>\n",
       "      <td>94.492</td>\n",
       "      <td>94.492</td>\n",
       "      <td>92.962</td>\n",
       "      <td>92.962</td>\n",
       "      <td>91.827</td>\n",
       "      <td>91.827</td>\n",
       "      <td>91.029</td>\n",
       "      <td>91.029</td>\n",
       "      <td>90.594</td>\n",
       "      <td>90.593</td>\n",
       "      <td>90.291</td>\n",
       "      <td>90.294</td>\n",
       "      <td>91.098</td>\n",
       "      <td>91.122</td>\n",
       "      <td>91.264</td>\n",
       "      <td>91.263</td>\n",
       "      <td>90.384</td>\n",
       "      <td>90.384</td>\n",
       "      <td>90.985</td>\n",
       "      <td>90.986</td>\n",
       "      <td>92.611</td>\n",
       "      <td>92.611</td>\n",
       "    </tr>\n",
       "    <tr>\n",
       "      <th>rain_inches</th>\n",
       "      <td>0.045</td>\n",
       "      <td>0.045</td>\n",
       "      <td>0.038</td>\n",
       "      <td>0.038</td>\n",
       "      <td>0.036</td>\n",
       "      <td>0.036</td>\n",
       "      <td>0.034</td>\n",
       "      <td>0.034</td>\n",
       "      <td>0.035</td>\n",
       "      <td>0.035</td>\n",
       "      <td>0.041</td>\n",
       "      <td>0.041</td>\n",
       "      <td>0.046</td>\n",
       "      <td>0.046</td>\n",
       "      <td>0.050</td>\n",
       "      <td>0.050</td>\n",
       "      <td>0.051</td>\n",
       "      <td>0.051</td>\n",
       "      <td>0.042</td>\n",
       "      <td>0.042</td>\n",
       "      <td>0.047</td>\n",
       "      <td>0.047</td>\n",
       "      <td>0.042</td>\n",
       "      <td>0.042</td>\n",
       "    </tr>\n",
       "  </tbody>\n",
       "</table>\n",
       "</div>"
      ],
      "text/plain": [
       "              08:00:00  08:30:00  09:00:00  09:30:00  10:00:00  10:30:00  11:00:00  11:30:00  12:00:00  12:30:00  13:00:00  13:30:00  14:00:00  14:30:00  15:00:00  15:30:00  16:00:00  16:30:00  17:00:00  17:30:00  18:00:00  18:30:00  19:00:00  19:30:00\n",
       "average_temp    46.446    46.446    47.086    47.086    46.749    46.749    47.141    47.140    47.677    47.677    47.945    47.948    48.709    48.702    48.795    48.784    49.427    49.432    50.030    50.031    49.583    49.585    48.299    48.299\n",
       "humidity        95.155    95.155    94.492    94.492    92.962    92.962    91.827    91.827    91.029    91.029    90.594    90.593    90.291    90.294    91.098    91.122    91.264    91.263    90.384    90.384    90.985    90.986    92.611    92.611\n",
       "rain_inches      0.045     0.045     0.038     0.038     0.036     0.036     0.034     0.034     0.035     0.035     0.041     0.041     0.046     0.046     0.050     0.050     0.051     0.051     0.042     0.042     0.047     0.047     0.042     0.042"
      ]
     },
     "execution_count": 464,
     "metadata": {},
     "output_type": "execute_result"
    }
   ],
   "source": [
    "summ_rainfall_time_v2_T"
   ]
  },
  {
   "cell_type": "markdown",
   "metadata": {},
   "source": [
    "Variation in rainfall throughout the day is a bit more noticeable now. Values are highest at 3pm and 4pm (0.050 and 0.051). They are lowest at 11am (0.034). \n",
    "\n",
    "More significant analysis will need to be conducted to determine statistically significant correlations. \n",
    "\n",
    "With this info, set threshold to analyze parking occupancy at times of rainfall above and below a threshold of 0.05. "
   ]
  },
  {
   "cell_type": "markdown",
   "metadata": {},
   "source": [
    "Compare parking occupancy at times of higher and lower rainfall. "
   ]
  },
  {
   "cell_type": "code",
   "execution_count": 443,
   "metadata": {},
   "outputs": [
    {
     "name": "stdout",
     "output_type": "stream",
     "text": [
      "Mean: 0.004769932987432824\n",
      "Max: 0.26\n"
     ]
    }
   ],
   "source": [
    "# Check mean and max rainfall records\n",
    "print('Mean:', all_df.rain_inches.mean())\n",
    "print('Max:', all_df.rain_inches.max())"
   ]
  },
  {
   "cell_type": "code",
   "execution_count": 447,
   "metadata": {},
   "outputs": [],
   "source": [
    "# Subset all_df based on higher and lower amounts of rainfall \n",
    "high_rain = all_df[all_df['rain_inches'] >= 0.05]\n",
    "low_rain = all_df[all_df['rain_inches'] < 0.05]"
   ]
  },
  {
   "cell_type": "code",
   "execution_count": 448,
   "metadata": {},
   "outputs": [
    {
     "name": "stdout",
     "output_type": "stream",
     "text": [
      "(88734, 49)\n",
      "(2153830, 49)\n"
     ]
    }
   ],
   "source": [
    "print(high_rain.shape)\n",
    "print(low_rain.shape)"
   ]
  },
  {
   "cell_type": "code",
   "execution_count": 450,
   "metadata": {},
   "outputs": [],
   "source": [
    "summ_high_rain = high_rain[['occupied_spots', 'empty_spots', 'total_spots',\n",
    "                            'total_spots_survey', 'occupied_spots_survey']].describe()\n",
    "summ_low_rain = low_rain[['occupied_spots', 'empty_spots', 'total_spots',\n",
    "                          'total_spots_survey', 'occupied_spots_survey']].describe()"
   ]
  },
  {
   "cell_type": "code",
   "execution_count": 452,
   "metadata": {},
   "outputs": [
    {
     "name": "stdout",
     "output_type": "stream",
     "text": [
      "Mean values for each variable:\n"
     ]
    },
    {
     "data": {
      "text/html": [
       "<div>\n",
       "<style scoped>\n",
       "    .dataframe tbody tr th:only-of-type {\n",
       "        vertical-align: middle;\n",
       "    }\n",
       "\n",
       "    .dataframe tbody tr th {\n",
       "        vertical-align: top;\n",
       "    }\n",
       "\n",
       "    .dataframe thead th {\n",
       "        text-align: right;\n",
       "    }\n",
       "</style>\n",
       "<table border=\"1\" class=\"dataframe\">\n",
       "  <thead>\n",
       "    <tr style=\"text-align: right;\">\n",
       "      <th></th>\n",
       "      <th>high_rain</th>\n",
       "      <th>low_rain</th>\n",
       "    </tr>\n",
       "  </thead>\n",
       "  <tbody>\n",
       "    <tr>\n",
       "      <th>occupied_spots</th>\n",
       "      <td>3.990</td>\n",
       "      <td>4.249</td>\n",
       "    </tr>\n",
       "    <tr>\n",
       "      <th>empty_spots</th>\n",
       "      <td>3.390</td>\n",
       "      <td>3.116</td>\n",
       "    </tr>\n",
       "    <tr>\n",
       "      <th>total_spots</th>\n",
       "      <td>7.380</td>\n",
       "      <td>7.365</td>\n",
       "    </tr>\n",
       "    <tr>\n",
       "      <th>total_spots_survey</th>\n",
       "      <td>6.952</td>\n",
       "      <td>7.150</td>\n",
       "    </tr>\n",
       "    <tr>\n",
       "      <th>occupied_spots_survey</th>\n",
       "      <td>6.141</td>\n",
       "      <td>5.712</td>\n",
       "    </tr>\n",
       "  </tbody>\n",
       "</table>\n",
       "</div>"
      ],
      "text/plain": [
       "                       high_rain  low_rain\n",
       "occupied_spots             3.990     4.249\n",
       "empty_spots                3.390     3.116\n",
       "total_spots                7.380     7.365\n",
       "total_spots_survey         6.952     7.150\n",
       "occupied_spots_survey      6.141     5.712"
      ]
     },
     "execution_count": 452,
     "metadata": {},
     "output_type": "execute_result"
    }
   ],
   "source": [
    "summ_rain_df = pd.concat([summ_high_rain.loc['mean',:].rename('high_rain'),\n",
    "                          summ_low_rain.loc['mean',:].rename('low_rain')], \n",
    "                          axis=1)\n",
    "print('Mean values for each variable:')\n",
    "summ_rain_df"
   ]
  },
  {
   "cell_type": "markdown",
   "metadata": {},
   "source": [
    "According to automatic transaction data, occupancy was slightly lower in 2017 and 2018 during hours of higher rainfall. But the manual survey data showed occupancy was slightly lower during periods of higher rainfall. This could be due to a smaller sample size on manual data, given it was taken over the course of about one day in Belltown North neighborhood. "
   ]
  },
  {
   "cell_type": "code",
   "execution_count": null,
   "metadata": {},
   "outputs": [],
   "source": []
  },
  {
   "cell_type": "code",
   "execution_count": null,
   "metadata": {},
   "outputs": [],
   "source": []
  },
  {
   "cell_type": "code",
   "execution_count": null,
   "metadata": {},
   "outputs": [],
   "source": []
  },
  {
   "cell_type": "code",
   "execution_count": null,
   "metadata": {},
   "outputs": [],
   "source": []
  }
 ],
 "metadata": {
  "kernelspec": {
   "display_name": "Python 3",
   "language": "python",
   "name": "python3"
  },
  "language_info": {
   "codemirror_mode": {
    "name": "ipython",
    "version": 3
   },
   "file_extension": ".py",
   "mimetype": "text/x-python",
   "name": "python",
   "nbconvert_exporter": "python",
   "pygments_lexer": "ipython3",
   "version": "3.6.4"
  }
 },
 "nbformat": 4,
 "nbformat_minor": 2
}
